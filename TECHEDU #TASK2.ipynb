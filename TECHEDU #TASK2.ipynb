{
 "cells": [
  {
   "cell_type": "markdown",
   "id": "4f639891",
   "metadata": {},
   "source": [
    "# WRITE A PROGRAM TO GUESS THE CORRECT NUMBER BY COMPUTER"
   ]
  },
  {
   "cell_type": "code",
   "execution_count": 1,
   "id": "60f49a9e",
   "metadata": {},
   "outputs": [
    {
     "name": "stdout",
     "output_type": "stream",
     "text": [
      "Guess a number between 1 and 100: \n",
      "87\n",
      "number is high(h),number is small(s), c h\n",
      "13\n",
      "number is high(h),number is small(s), c s\n",
      "58\n",
      "number is high(h),number is small(s), c c\n",
      "Congratulations, computer guessed it correctly!!\n",
      "Do you want to continue ?: Yes\n",
      "Guess a number between 1 and 100: \n",
      "97\n",
      "number is high(h),number is small(s), c c\n",
      "Congratulations, computer guessed it correctly!!\n",
      "Do you want to continue ?: No\n"
     ]
    }
   ],
   "source": [
    "\n",
    "import random\n",
    "\n",
    "play_game = 'Yes'\n",
    "direction = \"None\"\n",
    "smallest = 1\n",
    "largest = 100\n",
    "\n",
    "while play_game == 'Yes':\n",
    "    print(\"Guess a number between 1 and 100: \")\n",
    "    try_num = random.randint(1,100)\n",
    "    print(try_num)\n",
    "    count = 0\n",
    "    direction = \"None\"\n",
    "        \n",
    "    while direction != 'c':\n",
    "        \n",
    "        direction = input(\"number is high(h),number is small(s), c \")\n",
    "        \n",
    "        if direction == 's':\n",
    "            if try_num > 1:\n",
    "                smallest = try_num + 1\n",
    "            try_num = random.randint(smallest,largest)\n",
    "            print(try_num)\n",
    "            \n",
    "        if direction == 'h':\n",
    "            if try_num < largest:\n",
    "                largest = try_num - 1\n",
    "            try_num = random.randint(smallest,largest)\n",
    "            print(try_num)\n",
    "\n",
    "        count = count + 1\n",
    "        \n",
    "    print(\"Congratulations, computer guessed it correctly!!\")\n",
    "    \n",
    "    play_game = input(\"Do you want to continue ?: \")"
   ]
  },
  {
   "cell_type": "code",
   "execution_count": null,
   "id": "a9371273",
   "metadata": {},
   "outputs": [],
   "source": []
  }
 ],
 "metadata": {
  "kernelspec": {
   "display_name": "Python 3",
   "language": "python",
   "name": "python3"
  },
  "language_info": {
   "codemirror_mode": {
    "name": "ipython",
    "version": 3
   },
   "file_extension": ".py",
   "mimetype": "text/x-python",
   "name": "python",
   "nbconvert_exporter": "python",
   "pygments_lexer": "ipython3",
   "version": "3.8.8"
  }
 },
 "nbformat": 4,
 "nbformat_minor": 5
}
